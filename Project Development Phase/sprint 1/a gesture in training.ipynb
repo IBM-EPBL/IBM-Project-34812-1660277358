{
 "cells": [
  {
   "cell_type": "code",
   "execution_count": 1,
   "id": "853ced05",
   "metadata": {},
   "outputs": [],
   "source": [
    "import numpy as np\n",
    "import tensorflow as tf\n",
    "from tensorflow.keras.models import Sequential \n",
    "from tensorflow.keras.layers import Dense,Flatten, Dropout\n",
    "from tensorflow.keras.layers import Convolution2D,MaxPooling2D  \n",
    "from tensorflow.keras.preprocessing.image import ImageDataGenerator"
   ]
  },
  {
   "cell_type": "code",
   "execution_count": 2,
   "id": "f78a91c2",
   "metadata": {},
   "outputs": [],
   "source": [
    "train_datagen = ImageDataGenerator(rescale=1./255,\n",
    "                                   shear_range=0.2,\n",
    "                                   zoom_range=0.2,\n",
    "                                   horizontal_flip=True)\n",
    "test_datagen=ImageDataGenerator(rescale=1./255)"
   ]
  },
  {
   "cell_type": "code",
   "execution_count": 3,
   "id": "c819d11b",
   "metadata": {},
   "outputs": [
    {
     "name": "stdout",
     "output_type": "stream",
     "text": [
      "Found 594 images belonging to 6 classes.\n",
      "Found 30 images belonging to 6 classes.\n"
     ]
    }
   ],
   "source": [
    "x_train = train_datagen.flow_from_directory(r'C:\\dataset\\train',\n",
    "                                            target_size=(64, 64),\n",
    "                                            batch_size=3,\n",
    "                                            color_mode='grayscale',\n",
    "                                            class_mode='categorical')\n",
    "x_test = test_datagen.flow_from_directory(r'C:\\dataset\\test',\n",
    "                                          target_size=(64, 64),\n",
    "                                          batch_size=3, \n",
    "                                          color_mode='grayscale', \n",
    "                                          class_mode='categorical') "
   ]
  },
  {
   "cell_type": "code",
   "execution_count": 4,
   "id": "d5290c8a",
   "metadata": {},
   "outputs": [],
   "source": [
    "model = Sequential()"
   ]
  },
  {
   "cell_type": "code",
   "execution_count": 5,
   "id": "8c9abb27",
   "metadata": {},
   "outputs": [],
   "source": [
    "model = Sequential()"
   ]
  },
  {
   "cell_type": "code",
   "execution_count": 6,
   "id": "5f40da3e",
   "metadata": {},
   "outputs": [],
   "source": [
    "model.add(Convolution2D(32, (3, 3), input_shape=(64, 64, 1), activation='relu'))\n",
    "model.add(MaxPooling2D(pool_size=(2, 2)))"
   ]
  },
  {
   "cell_type": "code",
   "execution_count": 7,
   "id": "65e1a771",
   "metadata": {},
   "outputs": [],
   "source": [
    "model.add(Convolution2D(32, (3, 3), activation='relu'))\n",
    "model.add(MaxPooling2D(pool_size=(2,2)))"
   ]
  },
  {
   "cell_type": "code",
   "execution_count": 8,
   "id": "ca682ee2",
   "metadata": {},
   "outputs": [],
   "source": [
    "model.add(Flatten())"
   ]
  },
  {
   "cell_type": "code",
   "execution_count": 9,
   "id": "201ed2ad",
   "metadata": {},
   "outputs": [],
   "source": [
    "model.add(Dense(units=512 , activation='relu'))"
   ]
  },
  {
   "cell_type": "code",
   "execution_count": 10,
   "id": "aa4618e3",
   "metadata": {},
   "outputs": [],
   "source": [
    "model.add(Dense(units=6, activation='softmax'))"
   ]
  },
  {
   "cell_type": "code",
   "execution_count": 11,
   "id": "b9d1dbed",
   "metadata": {},
   "outputs": [
    {
     "name": "stdout",
     "output_type": "stream",
     "text": [
      "Model: \"sequential_1\"\n",
      "_________________________________________________________________\n",
      " Layer (type)                Output Shape              Param #   \n",
      "=================================================================\n",
      " conv2d (Conv2D)             (None, 62, 62, 32)        320       \n",
      "                                                                 \n",
      " max_pooling2d (MaxPooling2D  (None, 31, 31, 32)       0         \n",
      " )                                                               \n",
      "                                                                 \n",
      " conv2d_1 (Conv2D)           (None, 29, 29, 32)        9248      \n",
      "                                                                 \n",
      " max_pooling2d_1 (MaxPooling  (None, 14, 14, 32)       0         \n",
      " 2D)                                                             \n",
      "                                                                 \n",
      " flatten (Flatten)           (None, 6272)              0         \n",
      "                                                                 \n",
      " dense (Dense)               (None, 512)               3211776   \n",
      "                                                                 \n",
      " dense_1 (Dense)             (None, 6)                 3078      \n",
      "                                                                 \n",
      "=================================================================\n",
      "Total params: 3,224,422\n",
      "Trainable params: 3,224,422\n",
      "Non-trainable params: 0\n",
      "_________________________________________________________________\n"
     ]
    }
   ],
   "source": [
    "model.summary()"
   ]
  },
  {
   "cell_type": "code",
   "execution_count": 12,
   "id": "b5dd0ab0",
   "metadata": {},
   "outputs": [],
   "source": [
    "model.compile(optimizer='adam', loss='categorical_crossentropy', metrics=['accuracy']) "
   ]
  },
  {
   "cell_type": "code",
   "execution_count": 13,
   "id": "9f0f1054",
   "metadata": {},
   "outputs": [
    {
     "name": "stderr",
     "output_type": "stream",
     "text": [
      "C:\\Users\\ARAVIN~1\\AppData\\Local\\Temp/ipykernel_5008/3451504056.py:1: UserWarning: `Model.fit_generator` is deprecated and will be removed in a future version. Please use `Model.fit`, which supports generators.\n",
      "  model.fit_generator(x_train,\n"
     ]
    },
    {
     "name": "stdout",
     "output_type": "stream",
     "text": [
      "Epoch 1/25\n",
      "198/198 [==============================] - 7s 33ms/step - loss: 1.2807 - accuracy: 0.4848 - val_loss: 0.7753 - val_accuracy: 0.7667\n",
      "Epoch 2/25\n",
      "198/198 [==============================] - 5s 23ms/step - loss: 0.5306 - accuracy: 0.7795 - val_loss: 0.4485 - val_accuracy: 0.8667\n",
      "Epoch 3/25\n",
      "198/198 [==============================] - 5s 23ms/step - loss: 0.3375 - accuracy: 0.8636 - val_loss: 0.4340 - val_accuracy: 0.8667\n",
      "Epoch 4/25\n",
      "198/198 [==============================] - 4s 22ms/step - loss: 0.2728 - accuracy: 0.8923 - val_loss: 0.2308 - val_accuracy: 0.9333\n",
      "Epoch 5/25\n",
      "198/198 [==============================] - 4s 21ms/step - loss: 0.1490 - accuracy: 0.9545 - val_loss: 0.2642 - val_accuracy: 0.9667\n",
      "Epoch 6/25\n",
      "198/198 [==============================] - 4s 21ms/step - loss: 0.1268 - accuracy: 0.9596 - val_loss: 0.5564 - val_accuracy: 0.8333\n",
      "Epoch 7/25\n",
      "198/198 [==============================] - 4s 21ms/step - loss: 0.1105 - accuracy: 0.9646 - val_loss: 0.5265 - val_accuracy: 0.9000\n",
      "Epoch 8/25\n",
      "198/198 [==============================] - 4s 21ms/step - loss: 0.1617 - accuracy: 0.9394 - val_loss: 0.6568 - val_accuracy: 0.9000\n",
      "Epoch 9/25\n",
      "198/198 [==============================] - 4s 20ms/step - loss: 0.1178 - accuracy: 0.9545 - val_loss: 0.4479 - val_accuracy: 0.9000\n",
      "Epoch 10/25\n",
      "198/198 [==============================] - 4s 20ms/step - loss: 0.0903 - accuracy: 0.9646 - val_loss: 0.3431 - val_accuracy: 0.9333\n",
      "Epoch 11/25\n",
      "198/198 [==============================] - 4s 20ms/step - loss: 0.0903 - accuracy: 0.9663 - val_loss: 0.1876 - val_accuracy: 0.9000\n",
      "Epoch 12/25\n",
      "198/198 [==============================] - 4s 20ms/step - loss: 0.0569 - accuracy: 0.9815 - val_loss: 0.4412 - val_accuracy: 0.9000\n",
      "Epoch 13/25\n",
      "198/198 [==============================] - 4s 20ms/step - loss: 0.0114 - accuracy: 1.0000 - val_loss: 0.4941 - val_accuracy: 0.9333\n",
      "Epoch 14/25\n",
      "198/198 [==============================] - 4s 21ms/step - loss: 0.0058 - accuracy: 1.0000 - val_loss: 0.5353 - val_accuracy: 0.9333\n",
      "Epoch 15/25\n",
      "198/198 [==============================] - 4s 20ms/step - loss: 0.0239 - accuracy: 0.9949 - val_loss: 1.0285 - val_accuracy: 0.8000\n",
      "Epoch 16/25\n",
      "198/198 [==============================] - 4s 21ms/step - loss: 0.1579 - accuracy: 0.9495 - val_loss: 0.2613 - val_accuracy: 0.9667\n",
      "Epoch 17/25\n",
      "198/198 [==============================] - 4s 20ms/step - loss: 0.0519 - accuracy: 0.9882 - val_loss: 0.2160 - val_accuracy: 0.9333\n",
      "Epoch 18/25\n",
      "198/198 [==============================] - 4s 20ms/step - loss: 0.0810 - accuracy: 0.9764 - val_loss: 0.3940 - val_accuracy: 0.9000\n",
      "Epoch 19/25\n",
      "198/198 [==============================] - 4s 20ms/step - loss: 0.0287 - accuracy: 0.9916 - val_loss: 0.1948 - val_accuracy: 0.9333\n",
      "Epoch 20/25\n",
      "198/198 [==============================] - 4s 21ms/step - loss: 0.0681 - accuracy: 0.9832 - val_loss: 0.2937 - val_accuracy: 0.9333\n",
      "Epoch 21/25\n",
      "198/198 [==============================] - 4s 20ms/step - loss: 0.0307 - accuracy: 0.9848 - val_loss: 0.4350 - val_accuracy: 0.9333\n",
      "Epoch 22/25\n",
      "198/198 [==============================] - 4s 21ms/step - loss: 0.0348 - accuracy: 0.9916 - val_loss: 0.1718 - val_accuracy: 0.9667\n",
      "Epoch 23/25\n",
      "198/198 [==============================] - 4s 20ms/step - loss: 0.0066 - accuracy: 1.0000 - val_loss: 0.2792 - val_accuracy: 0.9667\n",
      "Epoch 24/25\n",
      "198/198 [==============================] - 4s 20ms/step - loss: 0.0038 - accuracy: 0.9983 - val_loss: 0.3246 - val_accuracy: 0.9333\n",
      "Epoch 25/25\n",
      "198/198 [==============================] - 4s 19ms/step - loss: 0.0380 - accuracy: 0.9865 - val_loss: 0.7303 - val_accuracy: 0.8333\n"
     ]
    },
    {
     "data": {
      "text/plain": [
       "<keras.callbacks.History at 0x2549dd995b0>"
      ]
     },
     "execution_count": 13,
     "metadata": {},
     "output_type": "execute_result"
    }
   ],
   "source": [
    "model.fit_generator(x_train,\n",
    "                    steps_per_epoch = 594/3 , \n",
    "                    epochs = 25, \n",
    "                    validation_data = x_test,\n",
    "                    validation_steps = 30/3 )"
   ]
  },
  {
   "cell_type": "code",
   "execution_count": 14,
   "id": "fd1e01c1",
   "metadata": {},
   "outputs": [],
   "source": [
    "model.save('hand.h5')"
   ]
  },
  {
   "cell_type": "code",
   "execution_count": 15,
   "id": "6e2aa6db",
   "metadata": {},
   "outputs": [],
   "source": [
    "model_json = model.to_json()\n",
    "with open(\"model-bw.json\", \"w\") as json_file:\n",
    "    json_file.write(model_json)"
   ]
  },
  {
   "cell_type": "code",
   "execution_count": null,
   "id": "ce11c30a",
   "metadata": {},
   "outputs": [],
   "source": []
  }
 ],
 "metadata": {
  "kernelspec": {
   "display_name": "Python 3 (ipykernel)",
   "language": "python",
   "name": "python3"
  },
  "language_info": {
   "codemirror_mode": {
    "name": "ipython",
    "version": 3
   },
   "file_extension": ".py",
   "mimetype": "text/x-python",
   "name": "python",
   "nbconvert_exporter": "python",
   "pygments_lexer": "ipython3",
   "version": "3.9.7"
  }
 },
 "nbformat": 4,
 "nbformat_minor": 5
}
